{
  "nbformat": 4,
  "nbformat_minor": 0,
  "metadata": {
    "colab": {
      "provenance": [],
      "authorship_tag": "ABX9TyOH9GWAauiff22i3sEBxmZ7",
      "include_colab_link": true
    },
    "kernelspec": {
      "name": "python3",
      "display_name": "Python 3"
    },
    "language_info": {
      "name": "python"
    }
  },
  "cells": [
    {
      "cell_type": "markdown",
      "metadata": {
        "id": "view-in-github",
        "colab_type": "text"
      },
      "source": [
        "<a href=\"https://colab.research.google.com/github/imakapp/data-camp/blob/python-courses/python-courses/9-exploratory-data-analysis-in-python.ipynb\" target=\"_parent\"><img src=\"https://colab.research.google.com/assets/colab-badge.svg\" alt=\"Open In Colab\"/></a>"
      ]
    },
    {
      "cell_type": "markdown",
      "source": [
        "# **1. Getting to Know a Dataset**"
      ],
      "metadata": {
        "id": "vog7gdKz0vIw"
      }
    },
    {
      "cell_type": "markdown",
      "source": [
        "## **1.1 Initial exploration**\n",
        "\n",
        "### **1.1.1 Functions for initial exploration**\n",
        "\n",
        "You are researching unemployment rates worldwide and have been given a new dataset to work with. Load data as a pandas DataFrame called unemployment. You've never seen the data before, so your first task is to use a few pandas functions to learn about this new data.**bold text**"
      ],
      "metadata": {
        "id": "mBHQQILbAUlB"
      }
    },
    {
      "cell_type": "code",
      "source": [
        "import pandas as pd\n",
        "\n",
        "# Create a DataFrame\n",
        "unemployment = pd.read_csv('/unemployment.csv')"
      ],
      "metadata": {
        "id": "JaXQ8Ix12F02"
      },
      "execution_count": null,
      "outputs": []
    },
    {
      "cell_type": "markdown",
      "source": [
        "*   Use a pandas function to print the first five rows of the unemployment DataFrame."
      ],
      "metadata": {
        "id": "QishXyYR1Nbe"
      }
    },
    {
      "cell_type": "code",
      "source": [
        "# Print the first five rows of unemployment\n",
        "print(unemployment.head())"
      ],
      "metadata": {
        "id": "8Xu5Bw1-1U3u"
      },
      "execution_count": null,
      "outputs": []
    },
    {
      "cell_type": "markdown",
      "source": [
        "*    a pandas function to print a summary of column non-missing values and data types from the unemployment DataFrame. "
      ],
      "metadata": {
        "id": "JIEAoyr62lN_"
      }
    },
    {
      "cell_type": "code",
      "source": [
        "# Print a summary of non-missing values and data types in the unemployment DataFrame\n",
        "print(unemployment.info())"
      ],
      "metadata": {
        "id": "3i3dvKyM9-TE"
      },
      "execution_count": null,
      "outputs": []
    },
    {
      "cell_type": "markdown",
      "source": [
        "Print the summary statistics (count, mean, standard deviation, min, max, and quartile values) of each numerical column in unemployment."
      ],
      "metadata": {
        "id": "SUPNNqEl21Jz"
      }
    },
    {
      "cell_type": "code",
      "source": [
        "# Print summary statistics for numerical columns in unemployment\n",
        "print(unemployment.describe())"
      ],
      "metadata": {
        "id": "xGE9kRzV251W"
      },
      "execution_count": null,
      "outputs": []
    },
    {
      "cell_type": "markdown",
      "source": [
        "### **1.1.2 Counting categorical values**\n",
        "Recall from the previous exercise that the unemployment DataFrame contains 182 rows of country data including country_code, country_name, continent, and unemployment percentages from 2010 through 2021.\n",
        "\n",
        "You'd now like to explore the categorical data contained in unemployment to understand the data that it contains related to each continent.\n",
        "\n",
        "The unemployment DataFrame has been loaded for you along with pandas as pd."
      ],
      "metadata": {
        "id": "lDPMJN8P4e01"
      }
    },
    {
      "cell_type": "markdown",
      "source": [
        "*   Use a pandas function to count the values associated with each continent in the unemployment DataFrame."
      ],
      "metadata": {
        "id": "s6lMCi1a47d7"
      }
    },
    {
      "cell_type": "code",
      "source": [
        "# Count the values associated with each continent in unemployment\n",
        "print(unemployment['continent'].value_counts())"
      ],
      "metadata": {
        "id": "OUyA9cC148bF"
      },
      "execution_count": null,
      "outputs": []
    },
    {
      "cell_type": "markdown",
      "source": [
        "### **1.1.3 Global unemployment in 2021**\n",
        "It's time to explore some of the numerical data in unemployment! What was typical unemployment in a given year? What was the minimum and maximum unemployment rate, and what did the distribution of the unemployment rates look like across the world? A histogram is a great way to get a sense of the answers to these questions.\n",
        "\n",
        "Your task in this exercise is to create a histogram showing the distribution of global unemployment rates in 2021."
      ],
      "metadata": {
        "id": "Jqpo6xij5BdD"
      }
    },
    {
      "cell_type": "markdown",
      "source": [
        "*   Import the required visualization libraries.\n",
        "\n",
        "*   Create a histogram of the distribution of 2021 unemployment percentages across all countries in unemployment; show a full percentage point in each bin.\n",
        "\n",
        "\n",
        "\n",
        "\n",
        "\n"
      ],
      "metadata": {
        "id": "uaS5eKwr5Z8-"
      }
    },
    {
      "cell_type": "code",
      "source": [
        "# Import the required visualization libraries\n",
        "import seaborn as sns\n",
        "import matplotlib.pyplot as plt\n",
        "\n",
        "# Create a histogram of 2021 unemployment; show a full percent in each bin\n",
        "sns.histplot(data=unemployment, x='2021', binwidth=1)\n",
        "plt.show()"
      ],
      "metadata": {
        "id": "aY4ciC-B59Zj"
      },
      "execution_count": null,
      "outputs": []
    },
    {
      "cell_type": "markdown",
      "source": [
        "### **1.2.1 Detecting data types**\n",
        "\n",
        "Data validation is an important early step in EDA. We want to understand whether data types and ranges are as expected before we progress too far in our analysis! Let's dive in. "
      ],
      "metadata": {
        "id": "UtrOUIxN8Ffg"
      }
    }
  ]
}